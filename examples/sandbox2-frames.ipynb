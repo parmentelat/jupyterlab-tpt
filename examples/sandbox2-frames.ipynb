{
 "cells": [
  {
   "cell_type": "markdown",
   "id": "0066f2ee-e9d8-41de-ba6d-67393cbde973",
   "metadata": {
    "editable": true,
    "slideshow": {
     "slide_type": ""
    },
    "tags": []
   },
   "source": [
    "# Python-numérique - introduction"
   ]
  },
  {
   "cell_type": "markdown",
   "id": "fe752d75-d221-4aac-93b9-ccc9a3e86b5a",
   "metadata": {
    "editable": true,
    "slideshow": {
     "slide_type": ""
    },
    "tags": [
     "framed_cell"
    ]
   },
   "source": [
    "## contenu de ce notebook (old)\n",
    "\n",
    "<br>\n",
    "\n",
    "l'ancien format de Valérie avec `framed_cell` c'était ceci\n",
    "\n",
    "<br>\n",
    "\n",
    "comprendre que des objets qui semblent aussi différents qu'une matrice, une table de mesures hétérogènes, une série temporelle, une image...\n",
    "\n",
    "<br>\n",
    "\n",
    "sont en fait une même structure de données\n",
    "\n",
    "<br>\n",
    "\n",
    "que celle-ci n'existe pas en `python`\n",
    "\n",
    "<br>\n",
    "\n",
    "d'où le recours à la librairie `numpy`"
   ]
  },
  {
   "cell_type": "markdown",
   "id": "8a961658-fd8e-4314-bb54-a3b20a445ef6",
   "metadata": {
    "editable": true,
    "slideshow": {
     "slide_type": ""
    },
    "tags": []
   },
   "source": [
    "## contenu de ce notebook (new)\n",
    "\n",
    "````{note} →\n",
    "\n",
    "maintenant ce serait ceci; le souci c'est qu'on ne peut pas mettre le titre à l'intérieur de l'admonition - car alors il n'apparait plus dans la table des matières, c'est contre-productif\n",
    "\n",
    "comprendre que des objets qui semblent aussi différents qu'une matrice, une table de mesures hétérogènes, une série temporelle, une image...\n",
    "\n",
    "sont en fait une même structure de données\n",
    "\n",
    "que celle-ci n'existe pas en `python`\n",
    "\n",
    "d'où le recours à la librairie `numpy`\n",
    "````"
   ]
  },
  {
   "cell_type": "markdown",
   "id": "98d621c2-c3e7-428b-a55e-f06251090c30",
   "metadata": {},
   "source": [
    "## différents formats de données\n",
    "\n",
    "````{admonition} →\n",
    "    \n",
    "1. des **vecteurs** et **matrices** numériques classiques\n",
    "\n",
    "<img src='media/matrice.png' width=400></img>\n",
    "\n",
    "------\n",
    "\n",
    "2. des **tables** d'observations où\n",
    "\n",
    "   * chaque **observation** (*lignes*)...\n",
    "   \n",
    "   * ...est décrite par une ou plusieurs **mesures** (*colonnes*)\n",
    "   \n",
    "   * la première ligne indique, dans cet exemple, les noms des colonnes\n",
    "   \n",
    "     Quelles sont ces différentes **mesures** ?  \n",
    "     certaines, *SibSp* et *Parch*, sont impossibles à comprendre sans les **meta-data** de la table\n",
    "\n",
    "<img src='media/titanic.png' width=\"1000\"></img>\n",
    "   \n",
    "-----\n",
    "\n",
    "3. des **séries temporelles**\n",
    "\n",
    "   * on affiche ici les valeurs cumulées des infections au covid de janvier à août 2020 en France\n",
    "   \n",
    "<img src='media/corona-france.jpg' width=\"500\"></img>\n",
    "https://www.data.gouv.fr/fr/datasets/coronavirus-covid19-evolution-par-pays-et-dans-le-monde-maj-quotidienne/\n",
    "    \n",
    "-----\n",
    "\n",
    "4. des images\n",
    "\n",
    "<img src='media/les-mines.jpg' width=\"500\">\n",
    "\n",
    "-----\n",
    "\n",
    "5. des sons (musique, voix)  \n",
    "\n",
    "-----\n",
    "\n",
    "6. **etc.**\n",
    "````"
   ]
  },
  {
   "cell_type": "code",
   "execution_count": null,
   "id": "7c40059f-48cd-47b8-aeb8-fc9085f1ecbd",
   "metadata": {},
   "outputs": [],
   "source": []
  }
 ],
 "metadata": {
  "kernelspec": {
   "display_name": "Python 3 (ipykernel)",
   "language": "python",
   "name": "python3"
  },
  "language_info": {
   "codemirror_mode": {
    "name": "ipython",
    "version": 3
   },
   "file_extension": ".py",
   "mimetype": "text/x-python",
   "name": "python",
   "nbconvert_exporter": "python",
   "pygments_lexer": "ipython3",
   "version": "3.11.4"
  }
 },
 "nbformat": 4,
 "nbformat_minor": 5
}
